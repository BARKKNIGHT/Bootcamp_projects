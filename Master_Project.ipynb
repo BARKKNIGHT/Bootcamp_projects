{
 "cells": [
  {
   "cell_type": "code",
   "execution_count": 1,
   "id": "c25be723-6dd4-4f3b-ac3c-48b08635a45b",
   "metadata": {},
   "outputs": [],
   "source": [
    "import pandas as pd\n",
    "import numpy as np\n",
    "import matplotlib.pyplot as plt\n",
    "import seaborn as sns\n",
    "from sklearn.preprocessing import LabelEncoder\n",
    "import warnings"
   ]
  },
  {
   "cell_type": "code",
   "execution_count": 2,
   "id": "fa6d38ab-11c4-466c-b6de-3a851949094b",
   "metadata": {},
   "outputs": [],
   "source": [
    "warnings.filterwarnings('ignore')"
   ]
  },
  {
   "cell_type": "code",
   "execution_count": 8,
   "id": "513767de-8504-476a-8395-40b605aabbb2",
   "metadata": {},
   "outputs": [],
   "source": [
    "df = pd.read_csv('datasets/bright_automotive_company.csv')"
   ]
  },
  {
   "cell_type": "code",
   "execution_count": 10,
   "id": "fa50e9a4-c79f-4095-8935-551a0b2cfd2c",
   "metadata": {},
   "outputs": [
    {
     "data": {
      "text/html": [
       "<div>\n",
       "<style scoped>\n",
       "    .dataframe tbody tr th:only-of-type {\n",
       "        vertical-align: middle;\n",
       "    }\n",
       "\n",
       "    .dataframe tbody tr th {\n",
       "        vertical-align: top;\n",
       "    }\n",
       "\n",
       "    .dataframe thead th {\n",
       "        text-align: right;\n",
       "    }\n",
       "</style>\n",
       "<table border=\"1\" class=\"dataframe\">\n",
       "  <thead>\n",
       "    <tr style=\"text-align: right;\">\n",
       "      <th></th>\n",
       "      <th>Age</th>\n",
       "      <th>Gender</th>\n",
       "      <th>Profession</th>\n",
       "      <th>Marital_status</th>\n",
       "      <th>Education</th>\n",
       "      <th>No_of_Dependents</th>\n",
       "      <th>Personal_loan</th>\n",
       "      <th>House_loan</th>\n",
       "      <th>Partner_working</th>\n",
       "      <th>Salary</th>\n",
       "      <th>Partner_salary</th>\n",
       "      <th>Total_salary</th>\n",
       "      <th>Price</th>\n",
       "      <th>Make</th>\n",
       "    </tr>\n",
       "  </thead>\n",
       "  <tbody>\n",
       "    <tr>\n",
       "      <th>0</th>\n",
       "      <td>53</td>\n",
       "      <td>Male</td>\n",
       "      <td>Business</td>\n",
       "      <td>Married</td>\n",
       "      <td>Post Graduate</td>\n",
       "      <td>4</td>\n",
       "      <td>No</td>\n",
       "      <td>No</td>\n",
       "      <td>Yes</td>\n",
       "      <td>99300.0</td>\n",
       "      <td>70700.0</td>\n",
       "      <td>170000</td>\n",
       "      <td>61000</td>\n",
       "      <td>SUV</td>\n",
       "    </tr>\n",
       "    <tr>\n",
       "      <th>1</th>\n",
       "      <td>53</td>\n",
       "      <td>Femal</td>\n",
       "      <td>Salaried</td>\n",
       "      <td>Married</td>\n",
       "      <td>Post Graduate</td>\n",
       "      <td>4</td>\n",
       "      <td>Yes</td>\n",
       "      <td>No</td>\n",
       "      <td>Yes</td>\n",
       "      <td>95500.0</td>\n",
       "      <td>70300.0</td>\n",
       "      <td>165800</td>\n",
       "      <td>61000</td>\n",
       "      <td>SUV</td>\n",
       "    </tr>\n",
       "    <tr>\n",
       "      <th>2</th>\n",
       "      <td>53</td>\n",
       "      <td>Female</td>\n",
       "      <td>Salaried</td>\n",
       "      <td>Married</td>\n",
       "      <td>Post Graduate</td>\n",
       "      <td>3</td>\n",
       "      <td>No</td>\n",
       "      <td>No</td>\n",
       "      <td>Yes</td>\n",
       "      <td>97300.0</td>\n",
       "      <td>60700.0</td>\n",
       "      <td>158000</td>\n",
       "      <td>57000</td>\n",
       "      <td>SUV</td>\n",
       "    </tr>\n",
       "    <tr>\n",
       "      <th>3</th>\n",
       "      <td>53</td>\n",
       "      <td>Female</td>\n",
       "      <td>Salaried</td>\n",
       "      <td>Married</td>\n",
       "      <td>Graduate</td>\n",
       "      <td>?</td>\n",
       "      <td>Yes</td>\n",
       "      <td>No</td>\n",
       "      <td>Yes</td>\n",
       "      <td>72500.0</td>\n",
       "      <td>70300.0</td>\n",
       "      <td>142800</td>\n",
       "      <td>61000</td>\n",
       "      <td>?</td>\n",
       "    </tr>\n",
       "    <tr>\n",
       "      <th>4</th>\n",
       "      <td>53</td>\n",
       "      <td>Male</td>\n",
       "      <td>NaN</td>\n",
       "      <td>Married</td>\n",
       "      <td>Post Graduate</td>\n",
       "      <td>3</td>\n",
       "      <td>No</td>\n",
       "      <td>No</td>\n",
       "      <td>Yes</td>\n",
       "      <td>79700.0</td>\n",
       "      <td>60200.0</td>\n",
       "      <td>139900</td>\n",
       "      <td>57000</td>\n",
       "      <td>SUV</td>\n",
       "    </tr>\n",
       "  </tbody>\n",
       "</table>\n",
       "</div>"
      ],
      "text/plain": [
       "   Age  Gender Profession Marital_status      Education No_of_Dependents  \\\n",
       "0   53    Male   Business        Married  Post Graduate                4   \n",
       "1   53   Femal   Salaried        Married  Post Graduate                4   \n",
       "2   53  Female   Salaried        Married  Post Graduate                3   \n",
       "3   53  Female   Salaried        Married       Graduate                ?   \n",
       "4   53    Male        NaN        Married  Post Graduate                3   \n",
       "\n",
       "  Personal_loan House_loan Partner_working   Salary  Partner_salary  \\\n",
       "0            No         No             Yes  99300.0         70700.0   \n",
       "1           Yes         No             Yes  95500.0         70300.0   \n",
       "2            No         No             Yes  97300.0         60700.0   \n",
       "3           Yes         No             Yes  72500.0         70300.0   \n",
       "4            No         No             Yes  79700.0         60200.0   \n",
       "\n",
       "   Total_salary  Price Make  \n",
       "0        170000  61000  SUV  \n",
       "1        165800  61000  SUV  \n",
       "2        158000  57000  SUV  \n",
       "3        142800  61000    ?  \n",
       "4        139900  57000  SUV  "
      ]
     },
     "execution_count": 10,
     "metadata": {},
     "output_type": "execute_result"
    }
   ],
   "source": [
    "df.head()"
   ]
  },
  {
   "cell_type": "code",
   "execution_count": 11,
   "id": "dbd04829-9038-4e6b-bd23-963b6c9ab14f",
   "metadata": {},
   "outputs": [
    {
     "name": "stdout",
     "output_type": "stream",
     "text": [
      "<class 'pandas.core.frame.DataFrame'>\n",
      "RangeIndex: 1581 entries, 0 to 1580\n",
      "Data columns (total 14 columns):\n",
      " #   Column            Non-Null Count  Dtype  \n",
      "---  ------            --------------  -----  \n",
      " 0   Age               1581 non-null   int64  \n",
      " 1   Gender            1528 non-null   object \n",
      " 2   Profession        1575 non-null   object \n",
      " 3   Marital_status    1581 non-null   object \n",
      " 4   Education         1581 non-null   object \n",
      " 5   No_of_Dependents  1581 non-null   object \n",
      " 6   Personal_loan     1581 non-null   object \n",
      " 7   House_loan        1581 non-null   object \n",
      " 8   Partner_working   1581 non-null   object \n",
      " 9   Salary            1568 non-null   float64\n",
      " 10  Partner_salary    1475 non-null   float64\n",
      " 11  Total_salary      1581 non-null   int64  \n",
      " 12  Price             1581 non-null   int64  \n",
      " 13  Make              1581 non-null   object \n",
      "dtypes: float64(2), int64(3), object(9)\n",
      "memory usage: 173.1+ KB\n"
     ]
    }
   ],
   "source": [
    "df.info()"
   ]
  },
  {
   "cell_type": "code",
   "execution_count": 12,
   "id": "c42569db-e3c5-4dec-a65e-d8460b11ef23",
   "metadata": {},
   "outputs": [
    {
     "data": {
      "text/html": [
       "<div>\n",
       "<style scoped>\n",
       "    .dataframe tbody tr th:only-of-type {\n",
       "        vertical-align: middle;\n",
       "    }\n",
       "\n",
       "    .dataframe tbody tr th {\n",
       "        vertical-align: top;\n",
       "    }\n",
       "\n",
       "    .dataframe thead th {\n",
       "        text-align: right;\n",
       "    }\n",
       "</style>\n",
       "<table border=\"1\" class=\"dataframe\">\n",
       "  <thead>\n",
       "    <tr style=\"text-align: right;\">\n",
       "      <th></th>\n",
       "      <th>Age</th>\n",
       "      <th>Salary</th>\n",
       "      <th>Partner_salary</th>\n",
       "      <th>Total_salary</th>\n",
       "      <th>Price</th>\n",
       "    </tr>\n",
       "  </thead>\n",
       "  <tbody>\n",
       "    <tr>\n",
       "      <th>count</th>\n",
       "      <td>1581.000000</td>\n",
       "      <td>1568.000000</td>\n",
       "      <td>1475.000000</td>\n",
       "      <td>1581.000000</td>\n",
       "      <td>1581.000000</td>\n",
       "    </tr>\n",
       "    <tr>\n",
       "      <th>mean</th>\n",
       "      <td>31.952562</td>\n",
       "      <td>60276.913265</td>\n",
       "      <td>20225.559322</td>\n",
       "      <td>79625.996205</td>\n",
       "      <td>35948.170778</td>\n",
       "    </tr>\n",
       "    <tr>\n",
       "      <th>std</th>\n",
       "      <td>8.712549</td>\n",
       "      <td>14636.200199</td>\n",
       "      <td>19573.149277</td>\n",
       "      <td>25545.857768</td>\n",
       "      <td>21175.212108</td>\n",
       "    </tr>\n",
       "    <tr>\n",
       "      <th>min</th>\n",
       "      <td>14.000000</td>\n",
       "      <td>30000.000000</td>\n",
       "      <td>0.000000</td>\n",
       "      <td>30000.000000</td>\n",
       "      <td>58.000000</td>\n",
       "    </tr>\n",
       "    <tr>\n",
       "      <th>25%</th>\n",
       "      <td>25.000000</td>\n",
       "      <td>51900.000000</td>\n",
       "      <td>0.000000</td>\n",
       "      <td>60500.000000</td>\n",
       "      <td>25000.000000</td>\n",
       "    </tr>\n",
       "    <tr>\n",
       "      <th>50%</th>\n",
       "      <td>29.000000</td>\n",
       "      <td>59450.000000</td>\n",
       "      <td>25600.000000</td>\n",
       "      <td>78000.000000</td>\n",
       "      <td>31000.000000</td>\n",
       "    </tr>\n",
       "    <tr>\n",
       "      <th>75%</th>\n",
       "      <td>38.000000</td>\n",
       "      <td>71700.000000</td>\n",
       "      <td>38300.000000</td>\n",
       "      <td>95900.000000</td>\n",
       "      <td>47000.000000</td>\n",
       "    </tr>\n",
       "    <tr>\n",
       "      <th>max</th>\n",
       "      <td>120.000000</td>\n",
       "      <td>99300.000000</td>\n",
       "      <td>80500.000000</td>\n",
       "      <td>171000.000000</td>\n",
       "      <td>680000.000000</td>\n",
       "    </tr>\n",
       "  </tbody>\n",
       "</table>\n",
       "</div>"
      ],
      "text/plain": [
       "               Age        Salary  Partner_salary   Total_salary          Price\n",
       "count  1581.000000   1568.000000     1475.000000    1581.000000    1581.000000\n",
       "mean     31.952562  60276.913265    20225.559322   79625.996205   35948.170778\n",
       "std       8.712549  14636.200199    19573.149277   25545.857768   21175.212108\n",
       "min      14.000000  30000.000000        0.000000   30000.000000      58.000000\n",
       "25%      25.000000  51900.000000        0.000000   60500.000000   25000.000000\n",
       "50%      29.000000  59450.000000    25600.000000   78000.000000   31000.000000\n",
       "75%      38.000000  71700.000000    38300.000000   95900.000000   47000.000000\n",
       "max     120.000000  99300.000000    80500.000000  171000.000000  680000.000000"
      ]
     },
     "execution_count": 12,
     "metadata": {},
     "output_type": "execute_result"
    }
   ],
   "source": [
    "df.describe()"
   ]
  },
  {
   "cell_type": "code",
   "execution_count": 13,
   "id": "4ef4e3db-3342-44e1-bd6c-3364aac2e664",
   "metadata": {},
   "outputs": [
    {
     "data": {
      "text/plain": [
       "(1581, 14)"
      ]
     },
     "execution_count": 13,
     "metadata": {},
     "output_type": "execute_result"
    }
   ],
   "source": [
    "df.shape"
   ]
  },
  {
   "cell_type": "code",
   "execution_count": 14,
   "id": "6ea34dea-2969-4b0f-92ac-1bad8f763e31",
   "metadata": {},
   "outputs": [
    {
     "data": {
      "text/plain": [
       "Index(['Age', 'Gender', 'Profession', 'Marital_status', 'Education',\n",
       "       'No_of_Dependents', 'Personal_loan', 'House_loan', 'Partner_working',\n",
       "       'Salary', 'Partner_salary', 'Total_salary', 'Price', 'Make'],\n",
       "      dtype='object')"
      ]
     },
     "execution_count": 14,
     "metadata": {},
     "output_type": "execute_result"
    }
   ],
   "source": [
    "df.columns"
   ]
  },
  {
   "cell_type": "markdown",
   "id": "d0486155-bd8e-49ea-b370-889bb4e3b0e7",
   "metadata": {},
   "source": [
    "# EDA -"
   ]
  },
  {
   "cell_type": "code",
   "execution_count": 15,
   "id": "6469b010-90b9-4add-8c9e-4e950374a4db",
   "metadata": {},
   "outputs": [],
   "source": [
    "df = df.fillna(method='bfill')"
   ]
  },
  {
   "cell_type": "code",
   "execution_count": 16,
   "id": "407048d7-b752-4330-8712-096b51086539",
   "metadata": {},
   "outputs": [
    {
     "data": {
      "text/plain": [
       "Age                 0\n",
       "Gender              0\n",
       "Profession          0\n",
       "Marital_status      0\n",
       "Education           0\n",
       "No_of_Dependents    0\n",
       "Personal_loan       0\n",
       "House_loan          0\n",
       "Partner_working     0\n",
       "Salary              0\n",
       "Partner_salary      0\n",
       "Total_salary        0\n",
       "Price               0\n",
       "Make                0\n",
       "dtype: int64"
      ]
     },
     "execution_count": 16,
     "metadata": {},
     "output_type": "execute_result"
    }
   ],
   "source": [
    "df.isnull().sum()"
   ]
  },
  {
   "cell_type": "code",
   "execution_count": 17,
   "id": "309c3189-34e2-4ba0-837b-17bb816f22c6",
   "metadata": {},
   "outputs": [
    {
     "data": {
      "text/plain": [
       "Age                   int64\n",
       "Gender               object\n",
       "Profession           object\n",
       "Marital_status       object\n",
       "Education            object\n",
       "No_of_Dependents     object\n",
       "Personal_loan        object\n",
       "House_loan           object\n",
       "Partner_working      object\n",
       "Salary              float64\n",
       "Partner_salary      float64\n",
       "Total_salary          int64\n",
       "Price                 int64\n",
       "Make                 object\n",
       "dtype: object"
      ]
     },
     "execution_count": 17,
     "metadata": {},
     "output_type": "execute_result"
    }
   ],
   "source": [
    "df.dtypes"
   ]
  },
  {
   "cell_type": "code",
   "execution_count": 18,
   "id": "ed83d93c-3442-4975-8ed6-25819301b65c",
   "metadata": {},
   "outputs": [],
   "source": [
    "m = {'Femal', 'Female', 'Femle', 'Male'}"
   ]
  },
  {
   "cell_type": "code",
   "execution_count": 19,
   "id": "05c43ee5-6113-4d34-b2d7-e83472d033c2",
   "metadata": {},
   "outputs": [],
   "source": [
    "df['Gender'] = ['Female' if i in {'Femle', 'Femal'} else i for i in df['Gender']]"
   ]
  },
  {
   "cell_type": "code",
   "execution_count": 20,
   "id": "dc1fa649-070b-40b7-b45f-f52f09e161ce",
   "metadata": {},
   "outputs": [],
   "source": [
    "duplicates = df[df.duplicated()]"
   ]
  },
  {
   "cell_type": "code",
   "execution_count": 21,
   "id": "2b87d0f9-f42e-4f14-9741-1bb2938a1d37",
   "metadata": {},
   "outputs": [
    {
     "data": {
      "text/html": [
       "<div>\n",
       "<style scoped>\n",
       "    .dataframe tbody tr th:only-of-type {\n",
       "        vertical-align: middle;\n",
       "    }\n",
       "\n",
       "    .dataframe tbody tr th {\n",
       "        vertical-align: top;\n",
       "    }\n",
       "\n",
       "    .dataframe thead th {\n",
       "        text-align: right;\n",
       "    }\n",
       "</style>\n",
       "<table border=\"1\" class=\"dataframe\">\n",
       "  <thead>\n",
       "    <tr style=\"text-align: right;\">\n",
       "      <th></th>\n",
       "      <th>Age</th>\n",
       "      <th>Gender</th>\n",
       "      <th>Profession</th>\n",
       "      <th>Marital_status</th>\n",
       "      <th>Education</th>\n",
       "      <th>No_of_Dependents</th>\n",
       "      <th>Personal_loan</th>\n",
       "      <th>House_loan</th>\n",
       "      <th>Partner_working</th>\n",
       "      <th>Salary</th>\n",
       "      <th>Partner_salary</th>\n",
       "      <th>Total_salary</th>\n",
       "      <th>Price</th>\n",
       "      <th>Make</th>\n",
       "    </tr>\n",
       "  </thead>\n",
       "  <tbody>\n",
       "  </tbody>\n",
       "</table>\n",
       "</div>"
      ],
      "text/plain": [
       "Empty DataFrame\n",
       "Columns: [Age, Gender, Profession, Marital_status, Education, No_of_Dependents, Personal_loan, House_loan, Partner_working, Salary, Partner_salary, Total_salary, Price, Make]\n",
       "Index: []"
      ]
     },
     "execution_count": 21,
     "metadata": {},
     "output_type": "execute_result"
    }
   ],
   "source": [
    "duplicates"
   ]
  },
  {
   "cell_type": "code",
   "execution_count": 22,
   "id": "4124b059-e936-4cb5-ab5f-8beb34bc5d47",
   "metadata": {},
   "outputs": [
    {
     "data": {
      "image/png": "[encoded data removed]",
      "text/plain": [
       "<Figure size 640x480 with 1 Axes>"
      ]
     },
     "metadata": {},
     "output_type": "display_data"
    }
   ],
   "source": [
    "df.boxplot()\n",
    "plt.show()"
   ]
  },
  {
   "cell_type": "code",
   "execution_count": 70,
   "id": "46c70a08-5df0-47d9-a8ef-9e83ebe5423e",
   "metadata": {},
   "outputs": [
    {
     "data": {
      "image/png": "[encoded data removed]",
      "text/plain": [
       "<Figure size 640x480 with 1 Axes>"
      ]
     },
     "metadata": {},
     "output_type": "display_data"
    }
   ],
   "source": [
    "sns.distplot(df['Price'],kde = True)\n",
    "plt.show()"
   ]
  },
  {
   "cell_type": "code",
   "execution_count": 24,
   "id": "a0118b6d-ed4e-4440-8156-4287d8373aa1",
   "metadata": {},
   "outputs": [
    {
     "data": {
      "image/png": "[encoded data removed]",
      "text/plain": [
       "<Figure size 640x480 with 1 Axes>"
      ]
     },
     "metadata": {},
     "output_type": "display_data"
    }
   ],
   "source": [
    "sns.distplot(df['Age'], kde = True)\n",
    "plt.show()"
   ]
  },
  {
   "cell_type": "code",
   "execution_count": 25,
   "id": "3fface32-3de7-449a-acc7-1e3f52a223f0",
   "metadata": {},
   "outputs": [
    {
     "data": {
      "image/png": "[encoded data removed]",
      "text/plain": [
       "<Figure size 640x480 with 1 Axes>"
      ]
     },
     "metadata": {},
     "output_type": "display_data"
    }
   ],
   "source": [
    "sns.distplot(df['Total_salary'], kde = True)\n",
    "plt.show()"
   ]
  },
  {
   "cell_type": "code",
   "execution_count": 26,
   "id": "8f07a2ed-fae4-4e99-9e1f-59566168d2ff",
   "metadata": {},
   "outputs": [
    {
     "name": "stdout",
     "output_type": "stream",
     "text": [
      "Gender\n",
      "Profession\n",
      "Marital_status\n",
      "Education\n",
      "No_of_Dependents\n",
      "Personal_loan\n",
      "House_loan\n",
      "Partner_working\n",
      "Make\n"
     ]
    }
   ],
   "source": [
    "d = {}\n",
    "for i in df:\n",
    "    if df[i].dtype == 'object':\n",
    "        try:\n",
    "            print(i)\n",
    "            temp = LabelEncoder()\n",
    "            d[i] = temp\n",
    "            df[i] = temp.fit_transform(df[i])\n",
    "        except:\n",
    "            print(i)"
   ]
  },
  {
   "cell_type": "code",
   "execution_count": 27,
   "id": "a009bf13-5470-4c25-bd17-a0bbc08d02c3",
   "metadata": {},
   "outputs": [
    {
     "name": "stdout",
     "output_type": "stream",
     "text": [
      "Age                   int64\n",
      "Gender                int64\n",
      "Profession            int64\n",
      "Marital_status        int64\n",
      "Education             int64\n",
      "No_of_Dependents      int64\n",
      "Personal_loan         int64\n",
      "House_loan            int64\n",
      "Partner_working       int64\n",
      "Salary              float64\n",
      "Partner_salary      float64\n",
      "Total_salary          int64\n",
      "Price                 int64\n",
      "Make                  int64\n",
      "dtype: object\n"
     ]
    }
   ],
   "source": [
    "print(df.dtypes)"
   ]
  },
  {
   "cell_type": "code",
   "execution_count": 28,
   "id": "b7e85996-af1e-4d40-9271-125922d3ebd5",
   "metadata": {},
   "outputs": [
    {
     "data": {
      "image/png": "[encoded data removed]",
      "text/plain": [
       "<Figure size 2000x1000 with 1 Axes>"
      ]
     },
     "metadata": {},
     "output_type": "display_data"
    }
   ],
   "source": [
    "plt.figure(figsize=(20,10))\n",
    "df.boxplot()\n",
    "plt.show()"
   ]
  },
  {
   "cell_type": "code",
   "execution_count": 29,
   "id": "bdc28a92-3045-4cff-960f-a42d5d9aeb6a",
   "metadata": {},
   "outputs": [
    {
     "data": {
      "image/png": "[encoded data removed]",
      "text/plain": [
       "<Figure size 640x480 with 2 Axes>"
      ]
     },
     "metadata": {},
     "output_type": "display_data"
    }
   ],
   "source": [
    "sns.heatmap(df)\n",
    "plt.show()"
   ]
  },
  {
   "cell_type": "code",
   "execution_count": 30,
   "id": "85a884a3-88a3-4860-a444-ae2eaa752a0e",
   "metadata": {},
   "outputs": [
    {
     "data": {
      "text/html": [
       "<div>\n",
       "<style scoped>\n",
       "    .dataframe tbody tr th:only-of-type {\n",
       "        vertical-align: middle;\n",
       "    }\n",
       "\n",
       "    .dataframe tbody tr th {\n",
       "        vertical-align: top;\n",
       "    }\n",
       "\n",
       "    .dataframe thead th {\n",
       "        text-align: right;\n",
       "    }\n",
       "</style>\n",
       "<table border=\"1\" class=\"dataframe\">\n",
       "  <thead>\n",
       "    <tr style=\"text-align: right;\">\n",
       "      <th></th>\n",
       "      <th>Age</th>\n",
       "      <th>Gender</th>\n",
       "      <th>Profession</th>\n",
       "      <th>Marital_status</th>\n",
       "      <th>Education</th>\n",
       "      <th>No_of_Dependents</th>\n",
       "      <th>Personal_loan</th>\n",
       "      <th>House_loan</th>\n",
       "      <th>Partner_working</th>\n",
       "      <th>Salary</th>\n",
       "      <th>Partner_salary</th>\n",
       "      <th>Total_salary</th>\n",
       "      <th>Price</th>\n",
       "      <th>Make</th>\n",
       "    </tr>\n",
       "  </thead>\n",
       "  <tbody>\n",
       "    <tr>\n",
       "      <th>Age</th>\n",
       "      <td>1.000000</td>\n",
       "      <td>-0.459960</td>\n",
       "      <td>0.126520</td>\n",
       "      <td>-0.028418</td>\n",
       "      <td>0.009699</td>\n",
       "      <td>-0.172566</td>\n",
       "      <td>-0.075152</td>\n",
       "      <td>-0.192102</td>\n",
       "      <td>-0.019385</td>\n",
       "      <td>0.604745</td>\n",
       "      <td>0.152391</td>\n",
       "      <td>0.457876</td>\n",
       "      <td>0.528360</td>\n",
       "      <td>0.283588</td>\n",
       "    </tr>\n",
       "    <tr>\n",
       "      <th>Gender</th>\n",
       "      <td>-0.459960</td>\n",
       "      <td>1.000000</td>\n",
       "      <td>-0.115257</td>\n",
       "      <td>0.027300</td>\n",
       "      <td>0.035808</td>\n",
       "      <td>0.222505</td>\n",
       "      <td>0.043924</td>\n",
       "      <td>0.083466</td>\n",
       "      <td>0.011900</td>\n",
       "      <td>-0.208886</td>\n",
       "      <td>-0.078067</td>\n",
       "      <td>-0.173796</td>\n",
       "      <td>-0.316241</td>\n",
       "      <td>-0.185044</td>\n",
       "    </tr>\n",
       "    <tr>\n",
       "      <th>Profession</th>\n",
       "      <td>0.126520</td>\n",
       "      <td>-0.115257</td>\n",
       "      <td>1.000000</td>\n",
       "      <td>-0.050286</td>\n",
       "      <td>-0.025296</td>\n",
       "      <td>-0.028472</td>\n",
       "      <td>-0.049388</td>\n",
       "      <td>-0.000902</td>\n",
       "      <td>-0.013780</td>\n",
       "      <td>0.046066</td>\n",
       "      <td>0.012926</td>\n",
       "      <td>0.031055</td>\n",
       "      <td>0.105170</td>\n",
       "      <td>0.048630</td>\n",
       "    </tr>\n",
       "    <tr>\n",
       "      <th>Marital_status</th>\n",
       "      <td>-0.028418</td>\n",
       "      <td>0.027300</td>\n",
       "      <td>-0.050286</td>\n",
       "      <td>1.000000</td>\n",
       "      <td>0.032473</td>\n",
       "      <td>-0.278256</td>\n",
       "      <td>0.012859</td>\n",
       "      <td>-0.033276</td>\n",
       "      <td>-0.341210</td>\n",
       "      <td>-0.003977</td>\n",
       "      <td>-0.294950</td>\n",
       "      <td>-0.235466</td>\n",
       "      <td>-0.036083</td>\n",
       "      <td>-0.139590</td>\n",
       "    </tr>\n",
       "    <tr>\n",
       "      <th>Education</th>\n",
       "      <td>0.009699</td>\n",
       "      <td>0.035808</td>\n",
       "      <td>-0.025296</td>\n",
       "      <td>0.032473</td>\n",
       "      <td>1.000000</td>\n",
       "      <td>0.011635</td>\n",
       "      <td>-0.024627</td>\n",
       "      <td>-0.009229</td>\n",
       "      <td>-0.033532</td>\n",
       "      <td>0.630040</td>\n",
       "      <td>-0.040295</td>\n",
       "      <td>0.330285</td>\n",
       "      <td>0.001486</td>\n",
       "      <td>0.009748</td>\n",
       "    </tr>\n",
       "    <tr>\n",
       "      <th>No_of_Dependents</th>\n",
       "      <td>-0.172566</td>\n",
       "      <td>0.222505</td>\n",
       "      <td>-0.028472</td>\n",
       "      <td>-0.278256</td>\n",
       "      <td>0.011635</td>\n",
       "      <td>1.000000</td>\n",
       "      <td>-0.098475</td>\n",
       "      <td>-0.023623</td>\n",
       "      <td>0.146786</td>\n",
       "      <td>-0.029262</td>\n",
       "      <td>0.139108</td>\n",
       "      <td>0.097765</td>\n",
       "      <td>-0.074498</td>\n",
       "      <td>-0.314733</td>\n",
       "    </tr>\n",
       "    <tr>\n",
       "      <th>Personal_loan</th>\n",
       "      <td>-0.075152</td>\n",
       "      <td>0.043924</td>\n",
       "      <td>-0.049388</td>\n",
       "      <td>0.012859</td>\n",
       "      <td>-0.024627</td>\n",
       "      <td>-0.098475</td>\n",
       "      <td>1.000000</td>\n",
       "      <td>0.037569</td>\n",
       "      <td>-0.019890</td>\n",
       "      <td>-0.058669</td>\n",
       "      <td>-0.030200</td>\n",
       "      <td>-0.056732</td>\n",
       "      <td>-0.070573</td>\n",
       "      <td>0.047582</td>\n",
       "    </tr>\n",
       "    <tr>\n",
       "      <th>House_loan</th>\n",
       "      <td>-0.192102</td>\n",
       "      <td>0.083466</td>\n",
       "      <td>-0.000902</td>\n",
       "      <td>-0.033276</td>\n",
       "      <td>-0.009229</td>\n",
       "      <td>-0.023623</td>\n",
       "      <td>0.037569</td>\n",
       "      <td>1.000000</td>\n",
       "      <td>0.015280</td>\n",
       "      <td>-0.115069</td>\n",
       "      <td>-0.036939</td>\n",
       "      <td>-0.090059</td>\n",
       "      <td>-0.152674</td>\n",
       "      <td>-0.005460</td>\n",
       "    </tr>\n",
       "    <tr>\n",
       "      <th>Partner_working</th>\n",
       "      <td>-0.019385</td>\n",
       "      <td>0.011900</td>\n",
       "      <td>-0.013780</td>\n",
       "      <td>-0.341210</td>\n",
       "      <td>-0.033532</td>\n",
       "      <td>0.146786</td>\n",
       "      <td>-0.019890</td>\n",
       "      <td>0.015280</td>\n",
       "      <td>1.000000</td>\n",
       "      <td>-0.007461</td>\n",
       "      <td>0.864255</td>\n",
       "      <td>0.677809</td>\n",
       "      <td>0.001260</td>\n",
       "      <td>0.066750</td>\n",
       "    </tr>\n",
       "    <tr>\n",
       "      <th>Salary</th>\n",
       "      <td>0.604745</td>\n",
       "      <td>-0.208886</td>\n",
       "      <td>0.046066</td>\n",
       "      <td>-0.003977</td>\n",
       "      <td>0.630040</td>\n",
       "      <td>-0.029262</td>\n",
       "      <td>-0.058669</td>\n",
       "      <td>-0.115069</td>\n",
       "      <td>-0.007461</td>\n",
       "      <td>1.000000</td>\n",
       "      <td>0.093123</td>\n",
       "      <td>0.642115</td>\n",
       "      <td>0.287197</td>\n",
       "      <td>0.124296</td>\n",
       "    </tr>\n",
       "    <tr>\n",
       "      <th>Partner_salary</th>\n",
       "      <td>0.152391</td>\n",
       "      <td>-0.078067</td>\n",
       "      <td>0.012926</td>\n",
       "      <td>-0.294950</td>\n",
       "      <td>-0.040295</td>\n",
       "      <td>0.139108</td>\n",
       "      <td>-0.030200</td>\n",
       "      <td>-0.036939</td>\n",
       "      <td>0.864255</td>\n",
       "      <td>0.093123</td>\n",
       "      <td>1.000000</td>\n",
       "      <td>0.803027</td>\n",
       "      <td>0.125522</td>\n",
       "      <td>0.081003</td>\n",
       "    </tr>\n",
       "    <tr>\n",
       "      <th>Total_salary</th>\n",
       "      <td>0.457876</td>\n",
       "      <td>-0.173796</td>\n",
       "      <td>0.031055</td>\n",
       "      <td>-0.235466</td>\n",
       "      <td>0.330285</td>\n",
       "      <td>0.097765</td>\n",
       "      <td>-0.056732</td>\n",
       "      <td>-0.090059</td>\n",
       "      <td>0.677809</td>\n",
       "      <td>0.642115</td>\n",
       "      <td>0.803027</td>\n",
       "      <td>1.000000</td>\n",
       "      <td>0.258060</td>\n",
       "      <td>0.133221</td>\n",
       "    </tr>\n",
       "    <tr>\n",
       "      <th>Price</th>\n",
       "      <td>0.528360</td>\n",
       "      <td>-0.316241</td>\n",
       "      <td>0.105170</td>\n",
       "      <td>-0.036083</td>\n",
       "      <td>0.001486</td>\n",
       "      <td>-0.074498</td>\n",
       "      <td>-0.070573</td>\n",
       "      <td>-0.152674</td>\n",
       "      <td>0.001260</td>\n",
       "      <td>0.287197</td>\n",
       "      <td>0.125522</td>\n",
       "      <td>0.258060</td>\n",
       "      <td>1.000000</td>\n",
       "      <td>0.148502</td>\n",
       "    </tr>\n",
       "    <tr>\n",
       "      <th>Make</th>\n",
       "      <td>0.283588</td>\n",
       "      <td>-0.185044</td>\n",
       "      <td>0.048630</td>\n",
       "      <td>-0.139590</td>\n",
       "      <td>0.009748</td>\n",
       "      <td>-0.314733</td>\n",
       "      <td>0.047582</td>\n",
       "      <td>-0.005460</td>\n",
       "      <td>0.066750</td>\n",
       "      <td>0.124296</td>\n",
       "      <td>0.081003</td>\n",
       "      <td>0.133221</td>\n",
       "      <td>0.148502</td>\n",
       "      <td>1.000000</td>\n",
       "    </tr>\n",
       "  </tbody>\n",
       "</table>\n",
       "</div>"
      ],
      "text/plain": [
       "                       Age    Gender  Profession  Marital_status  Education  \\\n",
       "Age               1.000000 -0.459960    0.126520       -0.028418   0.009699   \n",
       "Gender           -0.459960  1.000000   -0.115257        0.027300   0.035808   \n",
       "Profession        0.126520 -0.115257    1.000000       -0.050286  -0.025296   \n",
       "Marital_status   -0.028418  0.027300   -0.050286        1.000000   0.032473   \n",
       "Education         0.009699  0.035808   -0.025296        0.032473   1.000000   \n",
       "No_of_Dependents -0.172566  0.222505   -0.028472       -0.278256   0.011635   \n",
       "Personal_loan    -0.075152  0.043924   -0.049388        0.012859  -0.024627   \n",
       "House_loan       -0.192102  0.083466   -0.000902       -0.033276  -0.009229   \n",
       "Partner_working  -0.019385  0.011900   -0.013780       -0.341210  -0.033532   \n",
       "Salary            0.604745 -0.208886    0.046066       -0.003977   0.630040   \n",
       "Partner_salary    0.152391 -0.078067    0.012926       -0.294950  -0.040295   \n",
       "Total_salary      0.457876 -0.173796    0.031055       -0.235466   0.330285   \n",
       "Price             0.528360 -0.316241    0.105170       -0.036083   0.001486   \n",
       "Make              0.283588 -0.185044    0.048630       -0.139590   0.009748   \n",
       "\n",
       "                  No_of_Dependents  Personal_loan  House_loan  \\\n",
       "Age                      -0.172566      -0.075152   -0.192102   \n",
       "Gender                    0.222505       0.043924    0.083466   \n",
       "Profession               -0.028472      -0.049388   -0.000902   \n",
       "Marital_status           -0.278256       0.012859   -0.033276   \n",
       "Education                 0.011635      -0.024627   -0.009229   \n",
       "No_of_Dependents          1.000000      -0.098475   -0.023623   \n",
       "Personal_loan            -0.098475       1.000000    0.037569   \n",
       "House_loan               -0.023623       0.037569    1.000000   \n",
       "Partner_working           0.146786      -0.019890    0.015280   \n",
       "Salary                   -0.029262      -0.058669   -0.115069   \n",
       "Partner_salary            0.139108      -0.030200   -0.036939   \n",
       "Total_salary              0.097765      -0.056732   -0.090059   \n",
       "Price                    -0.074498      -0.070573   -0.152674   \n",
       "Make                     -0.314733       0.047582   -0.005460   \n",
       "\n",
       "                  Partner_working    Salary  Partner_salary  Total_salary  \\\n",
       "Age                     -0.019385  0.604745        0.152391      0.457876   \n",
       "Gender                   0.011900 -0.208886       -0.078067     -0.173796   \n",
       "Profession              -0.013780  0.046066        0.012926      0.031055   \n",
       "Marital_status          -0.341210 -0.003977       -0.294950     -0.235466   \n",
       "Education               -0.033532  0.630040       -0.040295      0.330285   \n",
       "No_of_Dependents         0.146786 -0.029262        0.139108      0.097765   \n",
       "Personal_loan           -0.019890 -0.058669       -0.030200     -0.056732   \n",
       "House_loan               0.015280 -0.115069       -0.036939     -0.090059   \n",
       "Partner_working          1.000000 -0.007461        0.864255      0.677809   \n",
       "Salary                  -0.007461  1.000000        0.093123      0.642115   \n",
       "Partner_salary           0.864255  0.093123        1.000000      0.803027   \n",
       "Total_salary             0.677809  0.642115        0.803027      1.000000   \n",
       "Price                    0.001260  0.287197        0.125522      0.258060   \n",
       "Make                     0.066750  0.124296        0.081003      0.133221   \n",
       "\n",
       "                     Price      Make  \n",
       "Age               0.528360  0.283588  \n",
       "Gender           -0.316241 -0.185044  \n",
       "Profession        0.105170  0.048630  \n",
       "Marital_status   -0.036083 -0.139590  \n",
       "Education         0.001486  0.009748  \n",
       "No_of_Dependents -0.074498 -0.314733  \n",
       "Personal_loan    -0.070573  0.047582  \n",
       "House_loan       -0.152674 -0.005460  \n",
       "Partner_working   0.001260  0.066750  \n",
       "Salary            0.287197  0.124296  \n",
       "Partner_salary    0.125522  0.081003  \n",
       "Total_salary      0.258060  0.133221  \n",
       "Price             1.000000  0.148502  \n",
       "Make              0.148502  1.000000  "
      ]
     },
     "execution_count": 30,
     "metadata": {},
     "output_type": "execute_result"
    }
   ],
   "source": [
    "df.corr()"
   ]
  },
  {
   "cell_type": "markdown",
   "id": "eddefda3-9632-49e9-a954-fd391d526989",
   "metadata": {},
   "source": [
    "## Descriptive Statistics -\n",
    "### What are the mean, median, and standard deviation of the ages of individuals in the dataset?"
   ]
  },
  {
   "cell_type": "code",
   "execution_count": 31,
   "id": "9b18e516-cadd-4549-b275-8bf007201173",
   "metadata": {},
   "outputs": [
    {
     "data": {
      "text/plain": [
       "np.float64(31.952561669829223)"
      ]
     },
     "execution_count": 31,
     "metadata": {},
     "output_type": "execute_result"
    }
   ],
   "source": [
    "mean = df['Age'].sum()/df.shape[0] # Or df['Age'].mean()\n",
    "mean"
   ]
  },
  {
   "cell_type": "code",
   "execution_count": 32,
   "id": "63fe3cf1-4aca-4eb2-aab7-3bb466a26527",
   "metadata": {},
   "outputs": [
    {
     "data": {
      "text/plain": [
       "29.0"
      ]
     },
     "execution_count": 32,
     "metadata": {},
     "output_type": "execute_result"
    }
   ],
   "source": [
    "median = df['Age'].median()\n",
    "median"
   ]
  },
  {
   "cell_type": "code",
   "execution_count": 33,
   "id": "cdfc349d-71af-4576-8190-d4119ead3bca",
   "metadata": {},
   "outputs": [
    {
     "data": {
      "text/plain": [
       "8.71254886208395"
      ]
     },
     "execution_count": 33,
     "metadata": {},
     "output_type": "execute_result"
    }
   ],
   "source": [
    "std = df['Age'].std()\n",
    "std"
   ]
  },
  {
   "cell_type": "markdown",
   "id": "51427b4a-7834-4808-8f74-b091d898caae",
   "metadata": {},
   "source": [
    "## Data Distribution -\n",
    "### What is the distribution of gender in the dataset? Represent it using a pie chart."
   ]
  },
  {
   "cell_type": "code",
   "execution_count": 34,
   "id": "1a17209f-1edc-42a9-9cb8-890a167141da",
   "metadata": {},
   "outputs": [
    {
     "data": {
      "image/png": "[encoded data removed]",
      "text/plain": [
       "<Figure size 640x480 with 1 Axes>"
      ]
     },
     "metadata": {},
     "output_type": "display_data"
    }
   ],
   "source": [
    "gender_counts = df['Gender'].value_counts()\n",
    "\n",
    "plt.pie(gender_counts, labels=['Male','Female'], autopct='%1.1f%%')\n",
    "plt.title('Gender Distribution')\n",
    "plt.show()"
   ]
  },
  {
   "cell_type": "markdown",
   "id": "b6fa0bdf-96fc-4937-a339-295e6e824f6b",
   "metadata": {},
   "source": [
    "## Correlation Analysis -\n",
    "### Is there a correlation between age and salary? Provide the correlation coefficient and interpret the result."
   ]
  },
  {
   "cell_type": "code",
   "execution_count": 35,
   "id": "7b17242a-4d1c-4b54-b272-164a26e8810e",
   "metadata": {},
   "outputs": [],
   "source": [
    "temp_df = df[['Age', 'Salary']]"
   ]
  },
  {
   "cell_type": "code",
   "execution_count": 36,
   "id": "4f0dd0fa-c4c6-4ea6-9016-146f1ab0b2e6",
   "metadata": {},
   "outputs": [
    {
     "data": {
      "text/html": [
       "<div>\n",
       "<style scoped>\n",
       "    .dataframe tbody tr th:only-of-type {\n",
       "        vertical-align: middle;\n",
       "    }\n",
       "\n",
       "    .dataframe tbody tr th {\n",
       "        vertical-align: top;\n",
       "    }\n",
       "\n",
       "    .dataframe thead th {\n",
       "        text-align: right;\n",
       "    }\n",
       "</style>\n",
       "<table border=\"1\" class=\"dataframe\">\n",
       "  <thead>\n",
       "    <tr style=\"text-align: right;\">\n",
       "      <th></th>\n",
       "      <th>Age</th>\n",
       "      <th>Salary</th>\n",
       "    </tr>\n",
       "  </thead>\n",
       "  <tbody>\n",
       "    <tr>\n",
       "      <th>0</th>\n",
       "      <td>53</td>\n",
       "      <td>99300.0</td>\n",
       "    </tr>\n",
       "    <tr>\n",
       "      <th>1</th>\n",
       "      <td>53</td>\n",
       "      <td>95500.0</td>\n",
       "    </tr>\n",
       "    <tr>\n",
       "      <th>2</th>\n",
       "      <td>53</td>\n",
       "      <td>97300.0</td>\n",
       "    </tr>\n",
       "    <tr>\n",
       "      <th>3</th>\n",
       "      <td>53</td>\n",
       "      <td>72500.0</td>\n",
       "    </tr>\n",
       "    <tr>\n",
       "      <th>4</th>\n",
       "      <td>53</td>\n",
       "      <td>79700.0</td>\n",
       "    </tr>\n",
       "    <tr>\n",
       "      <th>...</th>\n",
       "      <td>...</td>\n",
       "      <td>...</td>\n",
       "    </tr>\n",
       "    <tr>\n",
       "      <th>1576</th>\n",
       "      <td>22</td>\n",
       "      <td>33300.0</td>\n",
       "    </tr>\n",
       "    <tr>\n",
       "      <th>1577</th>\n",
       "      <td>22</td>\n",
       "      <td>32000.0</td>\n",
       "    </tr>\n",
       "    <tr>\n",
       "      <th>1578</th>\n",
       "      <td>22</td>\n",
       "      <td>32900.0</td>\n",
       "    </tr>\n",
       "    <tr>\n",
       "      <th>1579</th>\n",
       "      <td>22</td>\n",
       "      <td>32200.0</td>\n",
       "    </tr>\n",
       "    <tr>\n",
       "      <th>1580</th>\n",
       "      <td>22</td>\n",
       "      <td>31600.0</td>\n",
       "    </tr>\n",
       "  </tbody>\n",
       "</table>\n",
       "<p>1581 rows × 2 columns</p>\n",
       "</div>"
      ],
      "text/plain": [
       "      Age   Salary\n",
       "0      53  99300.0\n",
       "1      53  95500.0\n",
       "2      53  97300.0\n",
       "3      53  72500.0\n",
       "4      53  79700.0\n",
       "...   ...      ...\n",
       "1576   22  33300.0\n",
       "1577   22  32000.0\n",
       "1578   22  32900.0\n",
       "1579   22  32200.0\n",
       "1580   22  31600.0\n",
       "\n",
       "[1581 rows x 2 columns]"
      ]
     },
     "execution_count": 36,
     "metadata": {},
     "output_type": "execute_result"
    }
   ],
   "source": [
    "temp_df"
   ]
  },
  {
   "cell_type": "code",
   "execution_count": 37,
   "id": "39725130-1c20-456e-b8b6-7b5ac67b15f9",
   "metadata": {},
   "outputs": [
    {
     "data": {
      "text/html": [
       "<div>\n",
       "<style scoped>\n",
       "    .dataframe tbody tr th:only-of-type {\n",
       "        vertical-align: middle;\n",
       "    }\n",
       "\n",
       "    .dataframe tbody tr th {\n",
       "        vertical-align: top;\n",
       "    }\n",
       "\n",
       "    .dataframe thead th {\n",
       "        text-align: right;\n",
       "    }\n",
       "</style>\n",
       "<table border=\"1\" class=\"dataframe\">\n",
       "  <thead>\n",
       "    <tr style=\"text-align: right;\">\n",
       "      <th></th>\n",
       "      <th>Age</th>\n",
       "      <th>Salary</th>\n",
       "    </tr>\n",
       "  </thead>\n",
       "  <tbody>\n",
       "    <tr>\n",
       "      <th>Age</th>\n",
       "      <td>1.000000</td>\n",
       "      <td>0.604745</td>\n",
       "    </tr>\n",
       "    <tr>\n",
       "      <th>Salary</th>\n",
       "      <td>0.604745</td>\n",
       "      <td>1.000000</td>\n",
       "    </tr>\n",
       "  </tbody>\n",
       "</table>\n",
       "</div>"
      ],
      "text/plain": [
       "             Age    Salary\n",
       "Age     1.000000  0.604745\n",
       "Salary  0.604745  1.000000"
      ]
     },
     "execution_count": 37,
     "metadata": {},
     "output_type": "execute_result"
    }
   ],
   "source": [
    "temp_df.corr()"
   ]
  },
  {
   "cell_type": "markdown",
   "id": "b6f1cdc7-b643-47c8-b40b-767092841b13",
   "metadata": {},
   "source": [
    "sns.heatmap(temp_df)\n",
    "plt.show()"
   ]
  },
  {
   "cell_type": "markdown",
   "id": "14e83d41-b6ef-4f7a-9cef-e74827565b00",
   "metadata": {},
   "source": [
    "## Salary Analysis -\n",
    "### What is the average salary for individuals based on their educational qualifications (Graduate vs. Post Graduate)?"
   ]
  },
  {
   "cell_type": "code",
   "execution_count": 38,
   "id": "6f4242a6-5c84-41f9-8f08-93bfdd103130",
   "metadata": {},
   "outputs": [],
   "source": [
    "avg_post_grad_salary = df[df['Education'] == 1]['Age'].mean()\n",
    "avg_grad_salary = df[df['Education'] == 0]['Age'].mean()"
   ]
  },
  {
   "cell_type": "code",
   "execution_count": 39,
   "id": "bcdbff63-61dd-4fa9-ad33-998467c42cc3",
   "metadata": {},
   "outputs": [
    {
     "data": {
      "text/plain": [
       "(np.float64(32.018274111675126), np.float64(31.843959731543624))"
      ]
     },
     "execution_count": 39,
     "metadata": {},
     "output_type": "execute_result"
    }
   ],
   "source": [
    "avg_post_grad_salary, avg_grad_salary"
   ]
  },
  {
   "cell_type": "markdown",
   "id": "93730ca2-091e-4289-9273-ee1e6969cd7b",
   "metadata": {},
   "source": [
    "## Loan Analysis -\n",
    "### What percentage of individuals have taken a personal loan? How does this compare between males and females?"
   ]
  },
  {
   "cell_type": "code",
   "execution_count": 40,
   "id": "759e07bc-0904-4566-8ea4-54ded5f3111d",
   "metadata": {},
   "outputs": [],
   "source": [
    "loans = df[df[\"Personal_loan\"] == 1]\n",
    "no_loans = df[df[\"Personal_loan\"] == 0]"
   ]
  },
  {
   "cell_type": "code",
   "execution_count": 41,
   "id": "22717ba0-6615-4305-9576-3125fa344fb8",
   "metadata": {},
   "outputs": [
    {
     "data": {
      "text/plain": [
       "'50.094876660341555%'"
      ]
     },
     "execution_count": 41,
     "metadata": {},
     "output_type": "execute_result"
    }
   ],
   "source": [
    "f'{len(loans)/len(df)*100}%'"
   ]
  },
  {
   "cell_type": "code",
   "execution_count": 42,
   "id": "d6fe37ce-6481-4243-8642-52f20fa1483f",
   "metadata": {},
   "outputs": [
    {
     "data": {
      "text/plain": [
       "'49.905123339658445%'"
      ]
     },
     "execution_count": 42,
     "metadata": {},
     "output_type": "execute_result"
    }
   ],
   "source": [
    "f'{len(no_loans)/len(df)*100}%'"
   ]
  },
  {
   "cell_type": "code",
   "execution_count": 43,
   "id": "1132ad41-f504-4a1a-93c3-d432d79fb5d9",
   "metadata": {},
   "outputs": [],
   "source": [
    "# Men vs Women - \n",
    "men_loans = loans[loans['Gender'] == 1]\n",
    "women_loans = loans[loans['Gender'] == 0]\n",
    "\n",
    "men_no_loans = no_loans[no_loans['Gender'] == 1]\n",
    "women_no_loans = no_loans[no_loans['Gender'] == 0]"
   ]
  },
  {
   "cell_type": "code",
   "execution_count": 44,
   "id": "ed30025c-8caa-4f31-b157-e9d12b941c5f",
   "metadata": {},
   "outputs": [
    {
     "data": {
      "text/plain": [
       "80.05050505050505"
      ]
     },
     "execution_count": 44,
     "metadata": {},
     "output_type": "execute_result"
    }
   ],
   "source": [
    "len(men_loans)/len(loans)*100"
   ]
  },
  {
   "cell_type": "code",
   "execution_count": 45,
   "id": "afe1c984-81ef-41d7-bb38-032df1f8a135",
   "metadata": {},
   "outputs": [
    {
     "data": {
      "text/plain": [
       "19.94949494949495"
      ]
     },
     "execution_count": 45,
     "metadata": {},
     "output_type": "execute_result"
    }
   ],
   "source": [
    "len(women_loans)/len(loans)*100"
   ]
  },
  {
   "cell_type": "code",
   "execution_count": 46,
   "id": "821e3aa9-fcf6-45f1-b96f-c0a3074feb6a",
   "metadata": {},
   "outputs": [
    {
     "data": {
      "text/plain": [
       "76.42585551330798"
      ]
     },
     "execution_count": 46,
     "metadata": {},
     "output_type": "execute_result"
    }
   ],
   "source": [
    "len(men_no_loans)/len(no_loans)*100"
   ]
  },
  {
   "cell_type": "code",
   "execution_count": 47,
   "id": "fdd96d9c-813f-44f0-859c-2e792528aa4e",
   "metadata": {},
   "outputs": [
    {
     "data": {
      "text/plain": [
       "23.574144486692013"
      ]
     },
     "execution_count": 47,
     "metadata": {},
     "output_type": "execute_result"
    }
   ],
   "source": [
    "len(women_no_loans)/len(no_loans)*100"
   ]
  },
  {
   "cell_type": "markdown",
   "id": "b734f44d-ea27-448b-8807-053f1866a998",
   "metadata": {},
   "source": [
    "## Marital Status and Dependents -\n",
    "### What is the average number of dependents for married individuals versus single individuals?"
   ]
  },
  {
   "cell_type": "code",
   "execution_count": 58,
   "id": "6823a300",
   "metadata": {},
   "outputs": [],
   "source": [
    "dependents_married = df[df['Marital_status'] == 1]['No_of_Dependents']\n",
    "dependents_unmarried = df[df['Marital_status'] == 0]['No_of_Dependents']\n"
   ]
  },
  {
   "cell_type": "code",
   "execution_count": 63,
   "id": "19c0ff51",
   "metadata": {},
   "outputs": [
    {
     "data": {
      "text/plain": [
       "'Avg married dependents: 1.608695652173913'"
      ]
     },
     "execution_count": 63,
     "metadata": {},
     "output_type": "execute_result"
    }
   ],
   "source": [
    "f\"Avg married dependents: {dependents_married.sum()/len(dependents_married)}\""
   ]
  },
  {
   "cell_type": "code",
   "execution_count": 64,
   "id": "c87a488f",
   "metadata": {},
   "outputs": [
    {
     "data": {
      "text/plain": [
       "'Avg unmarried dependents: 2.541926541926542'"
      ]
     },
     "execution_count": 64,
     "metadata": {},
     "output_type": "execute_result"
    }
   ],
   "source": [
    "f\"Avg unmarried dependents: {dependents_unmarried.sum()/len(dependents_unmarried)}\""
   ]
  },
  {
   "cell_type": "markdown",
   "id": "aa050d69",
   "metadata": {},
   "source": [
    "# Training a Logistic Regression Model -"
   ]
  },
  {
   "cell_type": "code",
   "execution_count": 65,
   "id": "0523f1ff",
   "metadata": {},
   "outputs": [
    {
     "data": {
      "text/html": [
       "<div>\n",
       "<style scoped>\n",
       "    .dataframe tbody tr th:only-of-type {\n",
       "        vertical-align: middle;\n",
       "    }\n",
       "\n",
       "    .dataframe tbody tr th {\n",
       "        vertical-align: top;\n",
       "    }\n",
       "\n",
       "    .dataframe thead th {\n",
       "        text-align: right;\n",
       "    }\n",
       "</style>\n",
       "<table border=\"1\" class=\"dataframe\">\n",
       "  <thead>\n",
       "    <tr style=\"text-align: right;\">\n",
       "      <th></th>\n",
       "      <th>Age</th>\n",
       "      <th>Gender</th>\n",
       "      <th>Profession</th>\n",
       "      <th>Marital_status</th>\n",
       "      <th>Education</th>\n",
       "      <th>No_of_Dependents</th>\n",
       "      <th>Personal_loan</th>\n",
       "      <th>House_loan</th>\n",
       "      <th>Partner_working</th>\n",
       "      <th>Salary</th>\n",
       "      <th>Partner_salary</th>\n",
       "      <th>Total_salary</th>\n",
       "      <th>Price</th>\n",
       "      <th>Make</th>\n",
       "    </tr>\n",
       "  </thead>\n",
       "  <tbody>\n",
       "    <tr>\n",
       "      <th>0</th>\n",
       "      <td>53</td>\n",
       "      <td>1</td>\n",
       "      <td>0</td>\n",
       "      <td>0</td>\n",
       "      <td>1</td>\n",
       "      <td>4</td>\n",
       "      <td>0</td>\n",
       "      <td>0</td>\n",
       "      <td>1</td>\n",
       "      <td>99300.0</td>\n",
       "      <td>70700.0</td>\n",
       "      <td>170000</td>\n",
       "      <td>61000</td>\n",
       "      <td>2</td>\n",
       "    </tr>\n",
       "    <tr>\n",
       "      <th>1</th>\n",
       "      <td>53</td>\n",
       "      <td>0</td>\n",
       "      <td>1</td>\n",
       "      <td>0</td>\n",
       "      <td>1</td>\n",
       "      <td>4</td>\n",
       "      <td>1</td>\n",
       "      <td>0</td>\n",
       "      <td>1</td>\n",
       "      <td>95500.0</td>\n",
       "      <td>70300.0</td>\n",
       "      <td>165800</td>\n",
       "      <td>61000</td>\n",
       "      <td>2</td>\n",
       "    </tr>\n",
       "    <tr>\n",
       "      <th>2</th>\n",
       "      <td>53</td>\n",
       "      <td>0</td>\n",
       "      <td>1</td>\n",
       "      <td>0</td>\n",
       "      <td>1</td>\n",
       "      <td>3</td>\n",
       "      <td>0</td>\n",
       "      <td>0</td>\n",
       "      <td>1</td>\n",
       "      <td>97300.0</td>\n",
       "      <td>60700.0</td>\n",
       "      <td>158000</td>\n",
       "      <td>57000</td>\n",
       "      <td>2</td>\n",
       "    </tr>\n",
       "    <tr>\n",
       "      <th>3</th>\n",
       "      <td>53</td>\n",
       "      <td>0</td>\n",
       "      <td>1</td>\n",
       "      <td>0</td>\n",
       "      <td>0</td>\n",
       "      <td>5</td>\n",
       "      <td>1</td>\n",
       "      <td>0</td>\n",
       "      <td>1</td>\n",
       "      <td>72500.0</td>\n",
       "      <td>70300.0</td>\n",
       "      <td>142800</td>\n",
       "      <td>61000</td>\n",
       "      <td>0</td>\n",
       "    </tr>\n",
       "    <tr>\n",
       "      <th>4</th>\n",
       "      <td>53</td>\n",
       "      <td>1</td>\n",
       "      <td>1</td>\n",
       "      <td>0</td>\n",
       "      <td>1</td>\n",
       "      <td>3</td>\n",
       "      <td>0</td>\n",
       "      <td>0</td>\n",
       "      <td>1</td>\n",
       "      <td>79700.0</td>\n",
       "      <td>60200.0</td>\n",
       "      <td>139900</td>\n",
       "      <td>57000</td>\n",
       "      <td>2</td>\n",
       "    </tr>\n",
       "    <tr>\n",
       "      <th>...</th>\n",
       "      <td>...</td>\n",
       "      <td>...</td>\n",
       "      <td>...</td>\n",
       "      <td>...</td>\n",
       "      <td>...</td>\n",
       "      <td>...</td>\n",
       "      <td>...</td>\n",
       "      <td>...</td>\n",
       "      <td>...</td>\n",
       "      <td>...</td>\n",
       "      <td>...</td>\n",
       "      <td>...</td>\n",
       "      <td>...</td>\n",
       "      <td>...</td>\n",
       "    </tr>\n",
       "    <tr>\n",
       "      <th>1576</th>\n",
       "      <td>22</td>\n",
       "      <td>1</td>\n",
       "      <td>1</td>\n",
       "      <td>1</td>\n",
       "      <td>0</td>\n",
       "      <td>2</td>\n",
       "      <td>0</td>\n",
       "      <td>1</td>\n",
       "      <td>0</td>\n",
       "      <td>33300.0</td>\n",
       "      <td>0.0</td>\n",
       "      <td>33300</td>\n",
       "      <td>27000</td>\n",
       "      <td>1</td>\n",
       "    </tr>\n",
       "    <tr>\n",
       "      <th>1577</th>\n",
       "      <td>22</td>\n",
       "      <td>1</td>\n",
       "      <td>0</td>\n",
       "      <td>0</td>\n",
       "      <td>0</td>\n",
       "      <td>4</td>\n",
       "      <td>0</td>\n",
       "      <td>0</td>\n",
       "      <td>0</td>\n",
       "      <td>32000.0</td>\n",
       "      <td>0.0</td>\n",
       "      <td>32000</td>\n",
       "      <td>31000</td>\n",
       "      <td>1</td>\n",
       "    </tr>\n",
       "    <tr>\n",
       "      <th>1578</th>\n",
       "      <td>22</td>\n",
       "      <td>1</td>\n",
       "      <td>0</td>\n",
       "      <td>1</td>\n",
       "      <td>0</td>\n",
       "      <td>2</td>\n",
       "      <td>0</td>\n",
       "      <td>1</td>\n",
       "      <td>0</td>\n",
       "      <td>32900.0</td>\n",
       "      <td>0.0</td>\n",
       "      <td>32900</td>\n",
       "      <td>30000</td>\n",
       "      <td>1</td>\n",
       "    </tr>\n",
       "    <tr>\n",
       "      <th>1579</th>\n",
       "      <td>22</td>\n",
       "      <td>1</td>\n",
       "      <td>0</td>\n",
       "      <td>0</td>\n",
       "      <td>0</td>\n",
       "      <td>3</td>\n",
       "      <td>1</td>\n",
       "      <td>1</td>\n",
       "      <td>0</td>\n",
       "      <td>32200.0</td>\n",
       "      <td>0.0</td>\n",
       "      <td>32200</td>\n",
       "      <td>24000</td>\n",
       "      <td>1</td>\n",
       "    </tr>\n",
       "    <tr>\n",
       "      <th>1580</th>\n",
       "      <td>22</td>\n",
       "      <td>1</td>\n",
       "      <td>1</td>\n",
       "      <td>0</td>\n",
       "      <td>0</td>\n",
       "      <td>4</td>\n",
       "      <td>0</td>\n",
       "      <td>0</td>\n",
       "      <td>0</td>\n",
       "      <td>31600.0</td>\n",
       "      <td>0.0</td>\n",
       "      <td>31600</td>\n",
       "      <td>31000</td>\n",
       "      <td>1</td>\n",
       "    </tr>\n",
       "  </tbody>\n",
       "</table>\n",
       "<p>1581 rows × 14 columns</p>\n",
       "</div>"
      ],
      "text/plain": [
       "      Age  Gender  Profession  Marital_status  Education  No_of_Dependents  \\\n",
       "0      53       1           0               0          1                 4   \n",
       "1      53       0           1               0          1                 4   \n",
       "2      53       0           1               0          1                 3   \n",
       "3      53       0           1               0          0                 5   \n",
       "4      53       1           1               0          1                 3   \n",
       "...   ...     ...         ...             ...        ...               ...   \n",
       "1576   22       1           1               1          0                 2   \n",
       "1577   22       1           0               0          0                 4   \n",
       "1578   22       1           0               1          0                 2   \n",
       "1579   22       1           0               0          0                 3   \n",
       "1580   22       1           1               0          0                 4   \n",
       "\n",
       "      Personal_loan  House_loan  Partner_working   Salary  Partner_salary  \\\n",
       "0                 0           0                1  99300.0         70700.0   \n",
       "1                 1           0                1  95500.0         70300.0   \n",
       "2                 0           0                1  97300.0         60700.0   \n",
       "3                 1           0                1  72500.0         70300.0   \n",
       "4                 0           0                1  79700.0         60200.0   \n",
       "...             ...         ...              ...      ...             ...   \n",
       "1576              0           1                0  33300.0             0.0   \n",
       "1577              0           0                0  32000.0             0.0   \n",
       "1578              0           1                0  32900.0             0.0   \n",
       "1579              1           1                0  32200.0             0.0   \n",
       "1580              0           0                0  31600.0             0.0   \n",
       "\n",
       "      Total_salary  Price  Make  \n",
       "0           170000  61000     2  \n",
       "1           165800  61000     2  \n",
       "2           158000  57000     2  \n",
       "3           142800  61000     0  \n",
       "4           139900  57000     2  \n",
       "...            ...    ...   ...  \n",
       "1576         33300  27000     1  \n",
       "1577         32000  31000     1  \n",
       "1578         32900  30000     1  \n",
       "1579         32200  24000     1  \n",
       "1580         31600  31000     1  \n",
       "\n",
       "[1581 rows x 14 columns]"
      ]
     },
     "execution_count": 65,
     "metadata": {},
     "output_type": "execute_result"
    }
   ],
   "source": [
    "df"
   ]
  },
  {
   "cell_type": "code",
   "execution_count": null,
   "id": "e377fa5c",
   "metadata": {},
   "outputs": [],
   "source": []
  }
 ],
 "metadata": {
  "kernelspec": {
   "display_name": "base",
   "language": "python",
   "name": "python3"
  },
  "language_info": {
   "codemirror_mode": {
    "name": "ipython",
    "version": 3
   },
   "file_extension": ".py",
   "mimetype": "text/x-python",
   "name": "python",
   "nbconvert_exporter": "python",
   "pygments_lexer": "ipython3",
   "version": "3.12.3"
  }
 },
 "nbformat": 4,
 "nbformat_minor": 5
}
